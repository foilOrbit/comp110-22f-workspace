{
 "cells": [
  {
   "cell_type": "markdown",
   "metadata": {},
   "source": [
    "# Quantifying Shakespeare\n",
    "\n",
    "In this notebook we will: \n",
    "\n",
    "1. Read all of shakespeare's works into a list of strings\n",
    "2. Count the frequencies of letters used\n",
    "3. Visualize the results of hte frequencies\n",
    "\n",
    "The dataset we will use is:\n",
    "<https://bit.ly/shakespeare-txt>"
   ]
  }
 ],
 "metadata": {
  "kernelspec": {
   "display_name": "Python 3.10.6 64-bit",
   "language": "python",
   "name": "python3"
  },
  "language_info": {
   "name": "python",
   "version": "3.10.6"
  },
  "orig_nbformat": 4,
  "vscode": {
   "interpreter": {
    "hash": "52516253ee28c281d6ad5379abd94199c06ad664efeb22a72054839c824c54f4"
   }
  }
 },
 "nbformat": 4,
 "nbformat_minor": 2
}
